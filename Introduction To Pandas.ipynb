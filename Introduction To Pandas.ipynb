{
 "cells": [
  {
   "cell_type": "markdown",
   "id": "137f967e",
   "metadata": {},
   "source": [
    "## Importing Library\n"
   ]
  },
  {
   "cell_type": "code",
   "execution_count": 1,
   "id": "b6021c1f",
   "metadata": {},
   "outputs": [],
   "source": [
    "import numpy as np\n",
    "import pandas as pd\n",
    "import matplotlib\n",
    "import urllib\n",
    "import os"
   ]
  },
  {
   "cell_type": "code",
   "execution_count": 2,
   "id": "d204fb5e",
   "metadata": {},
   "outputs": [],
   "source": [
    "## OS module in Python provides functions for interacting with the operating system.\n",
    "###OS comes under Python’s standard utility modules. This module provides a portable way of using operating system\n",
    "##dependent functionality."
   ]
  },
  {
   "cell_type": "markdown",
   "id": "91e8d2e7",
   "metadata": {},
   "source": [
    "## Import Dataset"
   ]
  },
  {
   "cell_type": "code",
   "execution_count": 3,
   "id": "0b3e5324",
   "metadata": {},
   "outputs": [],
   "source": [
    "#type1\n",
    "\n",
    "url=\"https://covid19.who.int/WHO-COVID-19-global-data.csv\"\n",
    "file_path=os.path.join(\"data\",\"covid19\")"
   ]
  },
  {
   "cell_type": "code",
   "execution_count": 4,
   "id": "339461f0",
   "metadata": {},
   "outputs": [
    {
     "data": {
      "text/plain": [
       "('data\\\\covid19\\\\covid19.csv', <http.client.HTTPMessage at 0x25b2e6afb80>)"
      ]
     },
     "execution_count": 4,
     "metadata": {},
     "output_type": "execute_result"
    }
   ],
   "source": [
    "os.makedirs(file_path,exist_ok=True)\n",
    "csv_path = os.path.join(file_path , \"covid19.csv\")\n",
    "urllib.request.urlretrieve(url,csv_path)"
   ]
  },
  {
   "cell_type": "code",
   "execution_count": 5,
   "id": "f479d453",
   "metadata": {},
   "outputs": [],
   "source": [
    "file=pd.read_csv(csv_path)"
   ]
  },
  {
   "cell_type": "code",
   "execution_count": 6,
   "id": "373159db",
   "metadata": {},
   "outputs": [],
   "source": [
    "#type 2\n",
    "dataset = pd.read_csv('covid.csv')"
   ]
  },
  {
   "cell_type": "markdown",
   "id": "56991d3d",
   "metadata": {},
   "source": [
    "## Lets explore the dataset"
   ]
  },
  {
   "cell_type": "code",
   "execution_count": 9,
   "id": "0d6ecb9c",
   "metadata": {},
   "outputs": [
    {
     "data": {
      "text/html": [
       "<div>\n",
       "<style scoped>\n",
       "    .dataframe tbody tr th:only-of-type {\n",
       "        vertical-align: middle;\n",
       "    }\n",
       "\n",
       "    .dataframe tbody tr th {\n",
       "        vertical-align: top;\n",
       "    }\n",
       "\n",
       "    .dataframe thead th {\n",
       "        text-align: right;\n",
       "    }\n",
       "</style>\n",
       "<table border=\"1\" class=\"dataframe\">\n",
       "  <thead>\n",
       "    <tr style=\"text-align: right;\">\n",
       "      <th></th>\n",
       "      <th>Date_reported</th>\n",
       "      <th>Country_code</th>\n",
       "      <th>Country</th>\n",
       "      <th>WHO_region</th>\n",
       "      <th>New_cases</th>\n",
       "      <th>Cumulative_cases</th>\n",
       "      <th>New_deaths</th>\n",
       "      <th>Cumulative_deaths</th>\n",
       "    </tr>\n",
       "  </thead>\n",
       "  <tbody>\n",
       "    <tr>\n",
       "      <th>0</th>\n",
       "      <td>2020-01-03</td>\n",
       "      <td>AF</td>\n",
       "      <td>Afghanistan</td>\n",
       "      <td>EMRO</td>\n",
       "      <td>0</td>\n",
       "      <td>0</td>\n",
       "      <td>0</td>\n",
       "      <td>0</td>\n",
       "    </tr>\n",
       "    <tr>\n",
       "      <th>1</th>\n",
       "      <td>2020-01-04</td>\n",
       "      <td>AF</td>\n",
       "      <td>Afghanistan</td>\n",
       "      <td>EMRO</td>\n",
       "      <td>0</td>\n",
       "      <td>0</td>\n",
       "      <td>0</td>\n",
       "      <td>0</td>\n",
       "    </tr>\n",
       "    <tr>\n",
       "      <th>2</th>\n",
       "      <td>2020-01-05</td>\n",
       "      <td>AF</td>\n",
       "      <td>Afghanistan</td>\n",
       "      <td>EMRO</td>\n",
       "      <td>0</td>\n",
       "      <td>0</td>\n",
       "      <td>0</td>\n",
       "      <td>0</td>\n",
       "    </tr>\n",
       "    <tr>\n",
       "      <th>3</th>\n",
       "      <td>2020-01-06</td>\n",
       "      <td>AF</td>\n",
       "      <td>Afghanistan</td>\n",
       "      <td>EMRO</td>\n",
       "      <td>0</td>\n",
       "      <td>0</td>\n",
       "      <td>0</td>\n",
       "      <td>0</td>\n",
       "    </tr>\n",
       "    <tr>\n",
       "      <th>4</th>\n",
       "      <td>2020-01-07</td>\n",
       "      <td>AF</td>\n",
       "      <td>Afghanistan</td>\n",
       "      <td>EMRO</td>\n",
       "      <td>0</td>\n",
       "      <td>0</td>\n",
       "      <td>0</td>\n",
       "      <td>0</td>\n",
       "    </tr>\n",
       "    <tr>\n",
       "      <th>5</th>\n",
       "      <td>2020-01-08</td>\n",
       "      <td>AF</td>\n",
       "      <td>Afghanistan</td>\n",
       "      <td>EMRO</td>\n",
       "      <td>0</td>\n",
       "      <td>0</td>\n",
       "      <td>0</td>\n",
       "      <td>0</td>\n",
       "    </tr>\n",
       "    <tr>\n",
       "      <th>6</th>\n",
       "      <td>2020-01-09</td>\n",
       "      <td>AF</td>\n",
       "      <td>Afghanistan</td>\n",
       "      <td>EMRO</td>\n",
       "      <td>0</td>\n",
       "      <td>0</td>\n",
       "      <td>0</td>\n",
       "      <td>0</td>\n",
       "    </tr>\n",
       "  </tbody>\n",
       "</table>\n",
       "</div>"
      ],
      "text/plain": [
       "  Date_reported Country_code      Country WHO_region  New_cases  \\\n",
       "0    2020-01-03           AF  Afghanistan       EMRO          0   \n",
       "1    2020-01-04           AF  Afghanistan       EMRO          0   \n",
       "2    2020-01-05           AF  Afghanistan       EMRO          0   \n",
       "3    2020-01-06           AF  Afghanistan       EMRO          0   \n",
       "4    2020-01-07           AF  Afghanistan       EMRO          0   \n",
       "5    2020-01-08           AF  Afghanistan       EMRO          0   \n",
       "6    2020-01-09           AF  Afghanistan       EMRO          0   \n",
       "\n",
       "   Cumulative_cases  New_deaths  Cumulative_deaths  \n",
       "0                 0           0                  0  \n",
       "1                 0           0                  0  \n",
       "2                 0           0                  0  \n",
       "3                 0           0                  0  \n",
       "4                 0           0                  0  \n",
       "5                 0           0                  0  \n",
       "6                 0           0                  0  "
      ]
     },
     "execution_count": 9,
     "metadata": {},
     "output_type": "execute_result"
    }
   ],
   "source": [
    "file.head(7)"
   ]
  },
  {
   "cell_type": "code",
   "execution_count": 10,
   "id": "4d9689c9",
   "metadata": {},
   "outputs": [
    {
     "data": {
      "text/plain": [
       "(127743, 8)"
      ]
     },
     "execution_count": 10,
     "metadata": {},
     "output_type": "execute_result"
    }
   ],
   "source": [
    "file.shape"
   ]
  },
  {
   "cell_type": "code",
   "execution_count": 11,
   "id": "8a0bcef7",
   "metadata": {},
   "outputs": [],
   "source": [
    "df_index=file.index\n",
    "df_cols=file.columns"
   ]
  },
  {
   "cell_type": "code",
   "execution_count": 12,
   "id": "cd6e33d8",
   "metadata": {},
   "outputs": [
    {
     "data": {
      "text/plain": [
       "Index(['Date_reported', 'Country_code', 'Country', 'WHO_region', 'New_cases',\n",
       "       'Cumulative_cases', 'New_deaths', 'Cumulative_deaths'],\n",
       "      dtype='object')"
      ]
     },
     "execution_count": 12,
     "metadata": {},
     "output_type": "execute_result"
    }
   ],
   "source": [
    "\n",
    "df_cols"
   ]
  },
  {
   "cell_type": "code",
   "execution_count": 13,
   "id": "24d7e508",
   "metadata": {},
   "outputs": [
    {
     "data": {
      "text/plain": [
       "RangeIndex(start=0, stop=127743, step=1)"
      ]
     },
     "execution_count": 13,
     "metadata": {},
     "output_type": "execute_result"
    }
   ],
   "source": [
    "df_index"
   ]
  },
  {
   "cell_type": "code",
   "execution_count": 14,
   "id": "91e65956",
   "metadata": {},
   "outputs": [
    {
     "data": {
      "text/plain": [
       "array([['2020-01-03', 'AF', 'Afghanistan', ..., 0, 0, 0],\n",
       "       ['2020-01-04', 'AF', 'Afghanistan', ..., 0, 0, 0],\n",
       "       ['2020-01-05', 'AF', 'Afghanistan', ..., 0, 0, 0],\n",
       "       ...,\n",
       "       ['2021-06-22', 'ZW', 'Zimbabwe', ..., 42195, 13, 1685],\n",
       "       ['2021-06-23', 'ZW', 'Zimbabwe', ..., 42714, 6, 1691],\n",
       "       ['2021-06-24', 'ZW', 'Zimbabwe', ..., 43480, 1, 1692]],\n",
       "      dtype=object)"
      ]
     },
     "execution_count": 14,
     "metadata": {},
     "output_type": "execute_result"
    }
   ],
   "source": [
    "file.values #Return a Numpy representation of the DataFrame.Only the values in the DataFrame will be returned, the axes labels will be removed."
   ]
  },
  {
   "cell_type": "code",
   "execution_count": 15,
   "id": "43be5d25",
   "metadata": {},
   "outputs": [
    {
     "data": {
      "text/plain": [
       "2"
      ]
     },
     "execution_count": 15,
     "metadata": {},
     "output_type": "execute_result"
    }
   ],
   "source": [
    "file.ndim # Number of array dimensions.Return 1 if Series. Otherwise return 2 if DataFrame."
   ]
  },
  {
   "cell_type": "code",
   "execution_count": 16,
   "id": "04af6195",
   "metadata": {},
   "outputs": [
    {
     "data": {
      "text/plain": [
       "Date_reported        object\n",
       "Country_code         object\n",
       "Country              object\n",
       "WHO_region           object\n",
       "New_cases             int64\n",
       "Cumulative_cases      int64\n",
       "New_deaths            int64\n",
       "Cumulative_deaths     int64\n",
       "dtype: object"
      ]
     },
     "execution_count": 16,
     "metadata": {},
     "output_type": "execute_result"
    }
   ],
   "source": [
    "file.dtypes  ##checking the datatype"
   ]
  },
  {
   "cell_type": "code",
   "execution_count": 17,
   "id": "01f48a34",
   "metadata": {},
   "outputs": [
    {
     "data": {
      "text/html": [
       "<div>\n",
       "<style scoped>\n",
       "    .dataframe tbody tr th:only-of-type {\n",
       "        vertical-align: middle;\n",
       "    }\n",
       "\n",
       "    .dataframe tbody tr th {\n",
       "        vertical-align: top;\n",
       "    }\n",
       "\n",
       "    .dataframe thead th {\n",
       "        text-align: right;\n",
       "    }\n",
       "</style>\n",
       "<table border=\"1\" class=\"dataframe\">\n",
       "  <thead>\n",
       "    <tr style=\"text-align: right;\">\n",
       "      <th></th>\n",
       "      <th>Date_reported</th>\n",
       "      <th>Country_code</th>\n",
       "      <th>Country</th>\n",
       "      <th>WHO_region</th>\n",
       "      <th>New_cases</th>\n",
       "      <th>Cumulative_cases</th>\n",
       "      <th>New_deaths</th>\n",
       "      <th>Cumulative_deaths</th>\n",
       "    </tr>\n",
       "  </thead>\n",
       "  <tbody>\n",
       "    <tr>\n",
       "      <th>127738</th>\n",
       "      <td>2021-06-20</td>\n",
       "      <td>ZW</td>\n",
       "      <td>Zimbabwe</td>\n",
       "      <td>AFRO</td>\n",
       "      <td>293</td>\n",
       "      <td>41628</td>\n",
       "      <td>10</td>\n",
       "      <td>1666</td>\n",
       "    </tr>\n",
       "    <tr>\n",
       "      <th>127739</th>\n",
       "      <td>2021-06-21</td>\n",
       "      <td>ZW</td>\n",
       "      <td>Zimbabwe</td>\n",
       "      <td>AFRO</td>\n",
       "      <td>151</td>\n",
       "      <td>41779</td>\n",
       "      <td>6</td>\n",
       "      <td>1672</td>\n",
       "    </tr>\n",
       "    <tr>\n",
       "      <th>127740</th>\n",
       "      <td>2021-06-22</td>\n",
       "      <td>ZW</td>\n",
       "      <td>Zimbabwe</td>\n",
       "      <td>AFRO</td>\n",
       "      <td>416</td>\n",
       "      <td>42195</td>\n",
       "      <td>13</td>\n",
       "      <td>1685</td>\n",
       "    </tr>\n",
       "    <tr>\n",
       "      <th>127741</th>\n",
       "      <td>2021-06-23</td>\n",
       "      <td>ZW</td>\n",
       "      <td>Zimbabwe</td>\n",
       "      <td>AFRO</td>\n",
       "      <td>519</td>\n",
       "      <td>42714</td>\n",
       "      <td>6</td>\n",
       "      <td>1691</td>\n",
       "    </tr>\n",
       "    <tr>\n",
       "      <th>127742</th>\n",
       "      <td>2021-06-24</td>\n",
       "      <td>ZW</td>\n",
       "      <td>Zimbabwe</td>\n",
       "      <td>AFRO</td>\n",
       "      <td>766</td>\n",
       "      <td>43480</td>\n",
       "      <td>1</td>\n",
       "      <td>1692</td>\n",
       "    </tr>\n",
       "  </tbody>\n",
       "</table>\n",
       "</div>"
      ],
      "text/plain": [
       "       Date_reported Country_code   Country WHO_region  New_cases  \\\n",
       "127738    2021-06-20           ZW  Zimbabwe       AFRO        293   \n",
       "127739    2021-06-21           ZW  Zimbabwe       AFRO        151   \n",
       "127740    2021-06-22           ZW  Zimbabwe       AFRO        416   \n",
       "127741    2021-06-23           ZW  Zimbabwe       AFRO        519   \n",
       "127742    2021-06-24           ZW  Zimbabwe       AFRO        766   \n",
       "\n",
       "        Cumulative_cases  New_deaths  Cumulative_deaths  \n",
       "127738             41628          10               1666  \n",
       "127739             41779           6               1672  \n",
       "127740             42195          13               1685  \n",
       "127741             42714           6               1691  \n",
       "127742             43480           1               1692  "
      ]
     },
     "execution_count": 17,
     "metadata": {},
     "output_type": "execute_result"
    }
   ],
   "source": [
    "file.tail(5)"
   ]
  },
  {
   "cell_type": "code",
   "execution_count": 18,
   "id": "4953b994",
   "metadata": {},
   "outputs": [
    {
     "name": "stdout",
     "output_type": "stream",
     "text": [
      "<class 'pandas.core.frame.DataFrame'>\n",
      "RangeIndex: 127743 entries, 0 to 127742\n",
      "Data columns (total 8 columns):\n",
      " #   Column             Non-Null Count   Dtype \n",
      "---  ------             --------------   ----- \n",
      " 0   Date_reported      127743 non-null  object\n",
      " 1   Country_code       127204 non-null  object\n",
      " 2   Country            127743 non-null  object\n",
      " 3   WHO_region         127743 non-null  object\n",
      " 4   New_cases          127743 non-null  int64 \n",
      " 5   Cumulative_cases   127743 non-null  int64 \n",
      " 6   New_deaths         127743 non-null  int64 \n",
      " 7   Cumulative_deaths  127743 non-null  int64 \n",
      "dtypes: int64(4), object(4)\n",
      "memory usage: 7.8+ MB\n"
     ]
    }
   ],
   "source": [
    "file.info()"
   ]
  },
  {
   "cell_type": "code",
   "execution_count": 21,
   "id": "2b168743",
   "metadata": {},
   "outputs": [
    {
     "data": {
      "text/html": [
       "<div>\n",
       "<style scoped>\n",
       "    .dataframe tbody tr th:only-of-type {\n",
       "        vertical-align: middle;\n",
       "    }\n",
       "\n",
       "    .dataframe tbody tr th {\n",
       "        vertical-align: top;\n",
       "    }\n",
       "\n",
       "    .dataframe thead th {\n",
       "        text-align: right;\n",
       "    }\n",
       "</style>\n",
       "<table border=\"1\" class=\"dataframe\">\n",
       "  <thead>\n",
       "    <tr style=\"text-align: right;\">\n",
       "      <th></th>\n",
       "      <th>New_cases</th>\n",
       "      <th>Cumulative_cases</th>\n",
       "      <th>New_deaths</th>\n",
       "      <th>Cumulative_deaths</th>\n",
       "    </tr>\n",
       "  </thead>\n",
       "  <tbody>\n",
       "    <tr>\n",
       "      <th>count</th>\n",
       "      <td>127743.000000</td>\n",
       "      <td>1.277430e+05</td>\n",
       "      <td>127743.000000</td>\n",
       "      <td>127743.000000</td>\n",
       "    </tr>\n",
       "    <tr>\n",
       "      <th>mean</th>\n",
       "      <td>1403.143296</td>\n",
       "      <td>2.396624e+05</td>\n",
       "      <td>30.449598</td>\n",
       "      <td>5805.603571</td>\n",
       "    </tr>\n",
       "    <tr>\n",
       "      <th>std</th>\n",
       "      <td>9573.613286</td>\n",
       "      <td>1.508068e+06</td>\n",
       "      <td>171.125374</td>\n",
       "      <td>30519.675821</td>\n",
       "    </tr>\n",
       "    <tr>\n",
       "      <th>min</th>\n",
       "      <td>-32952.000000</td>\n",
       "      <td>0.000000e+00</td>\n",
       "      <td>-60.000000</td>\n",
       "      <td>0.000000</td>\n",
       "    </tr>\n",
       "    <tr>\n",
       "      <th>25%</th>\n",
       "      <td>0.000000</td>\n",
       "      <td>2.000000e+01</td>\n",
       "      <td>0.000000</td>\n",
       "      <td>0.000000</td>\n",
       "    </tr>\n",
       "    <tr>\n",
       "      <th>50%</th>\n",
       "      <td>7.000000</td>\n",
       "      <td>2.464000e+03</td>\n",
       "      <td>0.000000</td>\n",
       "      <td>42.000000</td>\n",
       "    </tr>\n",
       "    <tr>\n",
       "      <th>75%</th>\n",
       "      <td>294.000000</td>\n",
       "      <td>4.792050e+04</td>\n",
       "      <td>4.000000</td>\n",
       "      <td>787.000000</td>\n",
       "    </tr>\n",
       "    <tr>\n",
       "      <th>max</th>\n",
       "      <td>414188.000000</td>\n",
       "      <td>3.324353e+07</td>\n",
       "      <td>6508.000000</td>\n",
       "      <td>597372.000000</td>\n",
       "    </tr>\n",
       "  </tbody>\n",
       "</table>\n",
       "</div>"
      ],
      "text/plain": [
       "           New_cases  Cumulative_cases     New_deaths  Cumulative_deaths\n",
       "count  127743.000000      1.277430e+05  127743.000000      127743.000000\n",
       "mean     1403.143296      2.396624e+05      30.449598        5805.603571\n",
       "std      9573.613286      1.508068e+06     171.125374       30519.675821\n",
       "min    -32952.000000      0.000000e+00     -60.000000           0.000000\n",
       "25%         0.000000      2.000000e+01       0.000000           0.000000\n",
       "50%         7.000000      2.464000e+03       0.000000          42.000000\n",
       "75%       294.000000      4.792050e+04       4.000000         787.000000\n",
       "max    414188.000000      3.324353e+07    6508.000000      597372.000000"
      ]
     },
     "execution_count": 21,
     "metadata": {},
     "output_type": "execute_result"
    }
   ],
   "source": [
    "file.describe()"
   ]
  },
  {
   "cell_type": "markdown",
   "id": "56966c2e",
   "metadata": {},
   "source": [
    "### Let's check the name of the countries"
   ]
  },
  {
   "cell_type": "code",
   "execution_count": 23,
   "id": "dfbdc15d",
   "metadata": {
    "scrolled": true
   },
   "outputs": [
    {
     "data": {
      "text/plain": [
       "array(['Afghanistan', 'Albania', 'Algeria', 'American Samoa', 'Andorra',\n",
       "       'Angola', 'Anguilla', 'Antigua and Barbuda', 'Argentina',\n",
       "       'Armenia', 'Aruba', 'Australia', 'Austria', 'Azerbaijan',\n",
       "       'Bahamas', 'Bahrain', 'Bangladesh', 'Barbados', 'Belarus',\n",
       "       'Belgium', 'Belize', 'Benin', 'Bermuda', 'Bhutan',\n",
       "       'Bolivia (Plurinational State of)', 'Bonaire',\n",
       "       'Bosnia and Herzegovina', 'Botswana', 'Brazil',\n",
       "       'British Virgin Islands', 'Brunei Darussalam', 'Bulgaria',\n",
       "       'Burkina Faso', 'Burundi', 'Cabo Verde', 'Cambodia', 'Cameroon',\n",
       "       'Canada', 'Cayman Islands', 'Central African Republic', 'Chad',\n",
       "       'Chile', 'China', 'Colombia', 'Comoros', 'Congo', 'Cook Islands',\n",
       "       'Costa Rica', 'Côte d’Ivoire', 'Croatia', 'Cuba', 'Curaçao',\n",
       "       'Cyprus', 'Czechia', \"Democratic People's Republic of Korea\",\n",
       "       'Democratic Republic of the Congo', 'Denmark', 'Djibouti',\n",
       "       'Dominica', 'Dominican Republic', 'Ecuador', 'Egypt',\n",
       "       'El Salvador', 'Equatorial Guinea', 'Eritrea', 'Estonia',\n",
       "       'Eswatini', 'Ethiopia', 'Falkland Islands (Malvinas)',\n",
       "       'Faroe Islands', 'Fiji', 'Finland', 'France', 'French Guiana',\n",
       "       'French Polynesia', 'Gabon', 'Gambia', 'Georgia', 'Germany',\n",
       "       'Ghana', 'Gibraltar', 'Greece', 'Greenland', 'Grenada',\n",
       "       'Guadeloupe', 'Guam', 'Guatemala', 'Guernsey', 'Guinea',\n",
       "       'Guinea-Bissau', 'Guyana', 'Haiti', 'Holy See', 'Honduras',\n",
       "       'Hungary', 'Iceland', 'India', 'Indonesia',\n",
       "       'Iran (Islamic Republic of)', 'Iraq', 'Ireland', 'Isle of Man',\n",
       "       'Israel', 'Italy', 'Jamaica', 'Japan', 'Jersey', 'Jordan',\n",
       "       'Kazakhstan', 'Kenya', 'Kiribati', 'Kosovo[1]', 'Kuwait',\n",
       "       'Kyrgyzstan', \"Lao People's Democratic Republic\", 'Latvia',\n",
       "       'Lebanon', 'Lesotho', 'Liberia', 'Libya', 'Liechtenstein',\n",
       "       'Lithuania', 'Luxembourg', 'Madagascar', 'Malawi', 'Malaysia',\n",
       "       'Maldives', 'Mali', 'Malta', 'Marshall Islands', 'Martinique',\n",
       "       'Mauritania', 'Mauritius', 'Mayotte', 'Mexico',\n",
       "       'Micronesia (Federated States of)', 'Monaco', 'Mongolia',\n",
       "       'Montenegro', 'Montserrat', 'Morocco', 'Mozambique', 'Myanmar',\n",
       "       'Namibia', 'Nauru', 'Nepal', 'Netherlands', 'New Caledonia',\n",
       "       'New Zealand', 'Nicaragua', 'Niger', 'Nigeria', 'Niue',\n",
       "       'North Macedonia',\n",
       "       'Northern Mariana Islands (Commonwealth of the)', 'Norway',\n",
       "       'occupied Palestinian territory, including east Jerusalem', 'Oman',\n",
       "       'Other', 'Pakistan', 'Palau', 'Panama', 'Papua New Guinea',\n",
       "       'Paraguay', 'Peru', 'Philippines', 'Pitcairn Islands', 'Poland',\n",
       "       'Portugal', 'Puerto Rico', 'Qatar', 'Republic of Korea',\n",
       "       'Republic of Moldova', 'Réunion', 'Romania', 'Russian Federation',\n",
       "       'Rwanda', 'Saba', 'Saint Barthélemy', 'Saint Helena',\n",
       "       'Saint Kitts and Nevis', 'Saint Lucia', 'Saint Martin',\n",
       "       'Saint Pierre and Miquelon', 'Saint Vincent and the Grenadines',\n",
       "       'Samoa', 'San Marino', 'Sao Tome and Principe', 'Saudi Arabia',\n",
       "       'Senegal', 'Serbia', 'Seychelles', 'Sierra Leone', 'Singapore',\n",
       "       'Sint Eustatius', 'Sint Maarten', 'Slovakia', 'Slovenia',\n",
       "       'Solomon Islands', 'Somalia', 'South Africa', 'South Sudan',\n",
       "       'Spain', 'Sri Lanka', 'Sudan', 'Suriname', 'Sweden', 'Switzerland',\n",
       "       'Syrian Arab Republic', 'Tajikistan', 'Thailand',\n",
       "       'The United Kingdom', 'Timor-Leste', 'Togo', 'Tokelau', 'Tonga',\n",
       "       'Trinidad and Tobago', 'Tunisia', 'Turkey', 'Turkmenistan',\n",
       "       'Turks and Caicos Islands', 'Tuvalu', 'Uganda', 'Ukraine',\n",
       "       'United Arab Emirates', 'United Republic of Tanzania',\n",
       "       'United States of America', 'United States Virgin Islands',\n",
       "       'Uruguay', 'Uzbekistan', 'Vanuatu',\n",
       "       'Venezuela (Bolivarian Republic of)', 'Viet Nam',\n",
       "       'Wallis and Futuna', 'Yemen', 'Zambia', 'Zimbabwe'], dtype=object)"
      ]
     },
     "execution_count": 23,
     "metadata": {},
     "output_type": "execute_result"
    }
   ],
   "source": [
    "file['Country'].unique() "
   ]
  },
  {
   "cell_type": "code",
   "execution_count": 27,
   "id": "17a0407f",
   "metadata": {},
   "outputs": [],
   "source": [
    "df_columns= [col.strip() for col in file.columns]"
   ]
  },
  {
   "cell_type": "markdown",
   "id": "3bfbf55f",
   "metadata": {},
   "source": [
    "#### The strip() method removes any leading (spaces at the beginning) and trailing (spaces at the end) characters (space is the default leading character to remove)"
   ]
  },
  {
   "cell_type": "code",
   "execution_count": 28,
   "id": "d121db4e",
   "metadata": {},
   "outputs": [
    {
     "data": {
      "text/plain": [
       "['Date_reported',\n",
       " 'Country_code',\n",
       " 'Country',\n",
       " 'WHO_region',\n",
       " 'New_cases',\n",
       " 'Cumulative_cases',\n",
       " 'New_deaths',\n",
       " 'Cumulative_deaths']"
      ]
     },
     "execution_count": 28,
     "metadata": {},
     "output_type": "execute_result"
    }
   ],
   "source": [
    "df_columns"
   ]
  },
  {
   "cell_type": "code",
   "execution_count": 29,
   "id": "b9ccec9c",
   "metadata": {},
   "outputs": [
    {
     "data": {
      "text/html": [
       "<div>\n",
       "<style scoped>\n",
       "    .dataframe tbody tr th:only-of-type {\n",
       "        vertical-align: middle;\n",
       "    }\n",
       "\n",
       "    .dataframe tbody tr th {\n",
       "        vertical-align: top;\n",
       "    }\n",
       "\n",
       "    .dataframe thead th {\n",
       "        text-align: right;\n",
       "    }\n",
       "</style>\n",
       "<table border=\"1\" class=\"dataframe\">\n",
       "  <thead>\n",
       "    <tr style=\"text-align: right;\">\n",
       "      <th></th>\n",
       "      <th>Country</th>\n",
       "      <th>New_cases</th>\n",
       "    </tr>\n",
       "  </thead>\n",
       "  <tbody>\n",
       "    <tr>\n",
       "      <th>1</th>\n",
       "      <td>Afghanistan</td>\n",
       "      <td>0</td>\n",
       "    </tr>\n",
       "    <tr>\n",
       "      <th>2</th>\n",
       "      <td>Afghanistan</td>\n",
       "      <td>0</td>\n",
       "    </tr>\n",
       "    <tr>\n",
       "      <th>3</th>\n",
       "      <td>Afghanistan</td>\n",
       "      <td>0</td>\n",
       "    </tr>\n",
       "    <tr>\n",
       "      <th>4</th>\n",
       "      <td>Afghanistan</td>\n",
       "      <td>0</td>\n",
       "    </tr>\n",
       "    <tr>\n",
       "      <th>5</th>\n",
       "      <td>Afghanistan</td>\n",
       "      <td>0</td>\n",
       "    </tr>\n",
       "    <tr>\n",
       "      <th>6</th>\n",
       "      <td>Afghanistan</td>\n",
       "      <td>0</td>\n",
       "    </tr>\n",
       "    <tr>\n",
       "      <th>7</th>\n",
       "      <td>Afghanistan</td>\n",
       "      <td>0</td>\n",
       "    </tr>\n",
       "    <tr>\n",
       "      <th>8</th>\n",
       "      <td>Afghanistan</td>\n",
       "      <td>0</td>\n",
       "    </tr>\n",
       "  </tbody>\n",
       "</table>\n",
       "</div>"
      ],
      "text/plain": [
       "       Country  New_cases\n",
       "1  Afghanistan          0\n",
       "2  Afghanistan          0\n",
       "3  Afghanistan          0\n",
       "4  Afghanistan          0\n",
       "5  Afghanistan          0\n",
       "6  Afghanistan          0\n",
       "7  Afghanistan          0\n",
       "8  Afghanistan          0"
      ]
     },
     "execution_count": 29,
     "metadata": {},
     "output_type": "execute_result"
    }
   ],
   "source": [
    "file.loc[1:8 , ['Country', 'New_cases']]"
   ]
  },
  {
   "cell_type": "code",
   "execution_count": 31,
   "id": "c5203514",
   "metadata": {},
   "outputs": [],
   "source": [
    "Bangladesh=file[file['Country']== 'Bangladesh']"
   ]
  },
  {
   "cell_type": "code",
   "execution_count": 33,
   "id": "f564a14a",
   "metadata": {},
   "outputs": [
    {
     "data": {
      "text/html": [
       "<div>\n",
       "<style scoped>\n",
       "    .dataframe tbody tr th:only-of-type {\n",
       "        vertical-align: middle;\n",
       "    }\n",
       "\n",
       "    .dataframe tbody tr th {\n",
       "        vertical-align: top;\n",
       "    }\n",
       "\n",
       "    .dataframe thead th {\n",
       "        text-align: right;\n",
       "    }\n",
       "</style>\n",
       "<table border=\"1\" class=\"dataframe\">\n",
       "  <thead>\n",
       "    <tr style=\"text-align: right;\">\n",
       "      <th></th>\n",
       "      <th>Date_reported</th>\n",
       "      <th>Country_code</th>\n",
       "      <th>Country</th>\n",
       "      <th>WHO_region</th>\n",
       "      <th>New_cases</th>\n",
       "      <th>Cumulative_cases</th>\n",
       "      <th>New_deaths</th>\n",
       "      <th>Cumulative_deaths</th>\n",
       "    </tr>\n",
       "  </thead>\n",
       "  <tbody>\n",
       "    <tr>\n",
       "      <th>8624</th>\n",
       "      <td>2020-01-03</td>\n",
       "      <td>BD</td>\n",
       "      <td>Bangladesh</td>\n",
       "      <td>SEARO</td>\n",
       "      <td>0</td>\n",
       "      <td>0</td>\n",
       "      <td>0</td>\n",
       "      <td>0</td>\n",
       "    </tr>\n",
       "    <tr>\n",
       "      <th>8625</th>\n",
       "      <td>2020-01-04</td>\n",
       "      <td>BD</td>\n",
       "      <td>Bangladesh</td>\n",
       "      <td>SEARO</td>\n",
       "      <td>0</td>\n",
       "      <td>0</td>\n",
       "      <td>0</td>\n",
       "      <td>0</td>\n",
       "    </tr>\n",
       "    <tr>\n",
       "      <th>8626</th>\n",
       "      <td>2020-01-05</td>\n",
       "      <td>BD</td>\n",
       "      <td>Bangladesh</td>\n",
       "      <td>SEARO</td>\n",
       "      <td>0</td>\n",
       "      <td>0</td>\n",
       "      <td>0</td>\n",
       "      <td>0</td>\n",
       "    </tr>\n",
       "    <tr>\n",
       "      <th>8627</th>\n",
       "      <td>2020-01-06</td>\n",
       "      <td>BD</td>\n",
       "      <td>Bangladesh</td>\n",
       "      <td>SEARO</td>\n",
       "      <td>0</td>\n",
       "      <td>0</td>\n",
       "      <td>0</td>\n",
       "      <td>0</td>\n",
       "    </tr>\n",
       "    <tr>\n",
       "      <th>8628</th>\n",
       "      <td>2020-01-07</td>\n",
       "      <td>BD</td>\n",
       "      <td>Bangladesh</td>\n",
       "      <td>SEARO</td>\n",
       "      <td>0</td>\n",
       "      <td>0</td>\n",
       "      <td>0</td>\n",
       "      <td>0</td>\n",
       "    </tr>\n",
       "    <tr>\n",
       "      <th>8629</th>\n",
       "      <td>2020-01-08</td>\n",
       "      <td>BD</td>\n",
       "      <td>Bangladesh</td>\n",
       "      <td>SEARO</td>\n",
       "      <td>0</td>\n",
       "      <td>0</td>\n",
       "      <td>0</td>\n",
       "      <td>0</td>\n",
       "    </tr>\n",
       "    <tr>\n",
       "      <th>8630</th>\n",
       "      <td>2020-01-09</td>\n",
       "      <td>BD</td>\n",
       "      <td>Bangladesh</td>\n",
       "      <td>SEARO</td>\n",
       "      <td>0</td>\n",
       "      <td>0</td>\n",
       "      <td>0</td>\n",
       "      <td>0</td>\n",
       "    </tr>\n",
       "    <tr>\n",
       "      <th>8631</th>\n",
       "      <td>2020-01-10</td>\n",
       "      <td>BD</td>\n",
       "      <td>Bangladesh</td>\n",
       "      <td>SEARO</td>\n",
       "      <td>0</td>\n",
       "      <td>0</td>\n",
       "      <td>0</td>\n",
       "      <td>0</td>\n",
       "    </tr>\n",
       "    <tr>\n",
       "      <th>8632</th>\n",
       "      <td>2020-01-11</td>\n",
       "      <td>BD</td>\n",
       "      <td>Bangladesh</td>\n",
       "      <td>SEARO</td>\n",
       "      <td>0</td>\n",
       "      <td>0</td>\n",
       "      <td>0</td>\n",
       "      <td>0</td>\n",
       "    </tr>\n",
       "    <tr>\n",
       "      <th>8633</th>\n",
       "      <td>2020-01-12</td>\n",
       "      <td>BD</td>\n",
       "      <td>Bangladesh</td>\n",
       "      <td>SEARO</td>\n",
       "      <td>0</td>\n",
       "      <td>0</td>\n",
       "      <td>0</td>\n",
       "      <td>0</td>\n",
       "    </tr>\n",
       "  </tbody>\n",
       "</table>\n",
       "</div>"
      ],
      "text/plain": [
       "     Date_reported Country_code     Country WHO_region  New_cases  \\\n",
       "8624    2020-01-03           BD  Bangladesh      SEARO          0   \n",
       "8625    2020-01-04           BD  Bangladesh      SEARO          0   \n",
       "8626    2020-01-05           BD  Bangladesh      SEARO          0   \n",
       "8627    2020-01-06           BD  Bangladesh      SEARO          0   \n",
       "8628    2020-01-07           BD  Bangladesh      SEARO          0   \n",
       "8629    2020-01-08           BD  Bangladesh      SEARO          0   \n",
       "8630    2020-01-09           BD  Bangladesh      SEARO          0   \n",
       "8631    2020-01-10           BD  Bangladesh      SEARO          0   \n",
       "8632    2020-01-11           BD  Bangladesh      SEARO          0   \n",
       "8633    2020-01-12           BD  Bangladesh      SEARO          0   \n",
       "\n",
       "      Cumulative_cases  New_deaths  Cumulative_deaths  \n",
       "8624                 0           0                  0  \n",
       "8625                 0           0                  0  \n",
       "8626                 0           0                  0  \n",
       "8627                 0           0                  0  \n",
       "8628                 0           0                  0  \n",
       "8629                 0           0                  0  \n",
       "8630                 0           0                  0  \n",
       "8631                 0           0                  0  \n",
       "8632                 0           0                  0  \n",
       "8633                 0           0                  0  "
      ]
     },
     "execution_count": 33,
     "metadata": {},
     "output_type": "execute_result"
    }
   ],
   "source": [
    "Bangladesh.head(10)"
   ]
  },
  {
   "cell_type": "code",
   "execution_count": 36,
   "id": "acfe7419",
   "metadata": {},
   "outputs": [],
   "source": [
    "New_death_over_100=file.loc[file.New_deaths > 1000 ,['New_cases' , 'Country']]"
   ]
  },
  {
   "cell_type": "code",
   "execution_count": 37,
   "id": "6a087a13",
   "metadata": {},
   "outputs": [
    {
     "data": {
      "text/html": [
       "<div>\n",
       "<style scoped>\n",
       "    .dataframe tbody tr th:only-of-type {\n",
       "        vertical-align: middle;\n",
       "    }\n",
       "\n",
       "    .dataframe tbody tr th {\n",
       "        vertical-align: top;\n",
       "    }\n",
       "\n",
       "    .dataframe thead th {\n",
       "        text-align: right;\n",
       "    }\n",
       "</style>\n",
       "<table border=\"1\" class=\"dataframe\">\n",
       "  <thead>\n",
       "    <tr style=\"text-align: right;\">\n",
       "      <th></th>\n",
       "      <th>New_cases</th>\n",
       "      <th>Country</th>\n",
       "    </tr>\n",
       "  </thead>\n",
       "  <tbody>\n",
       "    <tr>\n",
       "      <th>4586</th>\n",
       "      <td>14001</td>\n",
       "      <td>Argentina</td>\n",
       "    </tr>\n",
       "    <tr>\n",
       "      <th>13185</th>\n",
       "      <td>528</td>\n",
       "      <td>Bolivia (Plurinational State of)</td>\n",
       "    </tr>\n",
       "    <tr>\n",
       "      <th>15231</th>\n",
       "      <td>17408</td>\n",
       "      <td>Brazil</td>\n",
       "    </tr>\n",
       "    <tr>\n",
       "      <th>15233</th>\n",
       "      <td>18508</td>\n",
       "      <td>Brazil</td>\n",
       "    </tr>\n",
       "    <tr>\n",
       "      <th>15234</th>\n",
       "      <td>20803</td>\n",
       "      <td>Brazil</td>\n",
       "    </tr>\n",
       "    <tr>\n",
       "      <th>...</th>\n",
       "      <td>...</td>\n",
       "      <td>...</td>\n",
       "    </tr>\n",
       "    <tr>\n",
       "      <th>122257</th>\n",
       "      <td>61405</td>\n",
       "      <td>United States of America</td>\n",
       "    </tr>\n",
       "    <tr>\n",
       "      <th>122262</th>\n",
       "      <td>65751</td>\n",
       "      <td>United States of America</td>\n",
       "    </tr>\n",
       "    <tr>\n",
       "      <th>122263</th>\n",
       "      <td>67796</td>\n",
       "      <td>United States of America</td>\n",
       "    </tr>\n",
       "    <tr>\n",
       "      <th>122264</th>\n",
       "      <td>71388</td>\n",
       "      <td>United States of America</td>\n",
       "    </tr>\n",
       "    <tr>\n",
       "      <th>122325</th>\n",
       "      <td>24462</td>\n",
       "      <td>United States of America</td>\n",
       "    </tr>\n",
       "  </tbody>\n",
       "</table>\n",
       "<p>635 rows × 2 columns</p>\n",
       "</div>"
      ],
      "text/plain": [
       "        New_cases                           Country\n",
       "4586        14001                         Argentina\n",
       "13185         528  Bolivia (Plurinational State of)\n",
       "15231       17408                            Brazil\n",
       "15233       18508                            Brazil\n",
       "15234       20803                            Brazil\n",
       "...           ...                               ...\n",
       "122257      61405          United States of America\n",
       "122262      65751          United States of America\n",
       "122263      67796          United States of America\n",
       "122264      71388          United States of America\n",
       "122325      24462          United States of America\n",
       "\n",
       "[635 rows x 2 columns]"
      ]
     },
     "execution_count": 37,
     "metadata": {},
     "output_type": "execute_result"
    }
   ],
   "source": [
    "New_death_over_100"
   ]
  },
  {
   "cell_type": "code",
   "execution_count": 40,
   "id": "5963777b",
   "metadata": {},
   "outputs": [
    {
     "data": {
      "text/html": [
       "<div>\n",
       "<style scoped>\n",
       "    .dataframe tbody tr th:only-of-type {\n",
       "        vertical-align: middle;\n",
       "    }\n",
       "\n",
       "    .dataframe tbody tr th {\n",
       "        vertical-align: top;\n",
       "    }\n",
       "\n",
       "    .dataframe thead th {\n",
       "        text-align: right;\n",
       "    }\n",
       "</style>\n",
       "<table border=\"1\" class=\"dataframe\">\n",
       "  <thead>\n",
       "    <tr style=\"text-align: right;\">\n",
       "      <th></th>\n",
       "      <th>Date_reported</th>\n",
       "      <th>Country_code</th>\n",
       "      <th>Country</th>\n",
       "      <th>WHO_region</th>\n",
       "      <th>New_cases</th>\n",
       "      <th>Cumulative_cases</th>\n",
       "      <th>New_deaths</th>\n",
       "      <th>Cumulative_deaths</th>\n",
       "    </tr>\n",
       "  </thead>\n",
       "  <tbody>\n",
       "    <tr>\n",
       "      <th>15231</th>\n",
       "      <td>2020-05-21</td>\n",
       "      <td>BR</td>\n",
       "      <td>Brazil</td>\n",
       "      <td>AMRO</td>\n",
       "      <td>17408</td>\n",
       "      <td>271628</td>\n",
       "      <td>1179</td>\n",
       "      <td>17971</td>\n",
       "    </tr>\n",
       "    <tr>\n",
       "      <th>15233</th>\n",
       "      <td>2020-05-23</td>\n",
       "      <td>BR</td>\n",
       "      <td>Brazil</td>\n",
       "      <td>AMRO</td>\n",
       "      <td>18508</td>\n",
       "      <td>310087</td>\n",
       "      <td>1188</td>\n",
       "      <td>20047</td>\n",
       "    </tr>\n",
       "    <tr>\n",
       "      <th>15234</th>\n",
       "      <td>2020-05-24</td>\n",
       "      <td>BR</td>\n",
       "      <td>Brazil</td>\n",
       "      <td>AMRO</td>\n",
       "      <td>20803</td>\n",
       "      <td>330890</td>\n",
       "      <td>1001</td>\n",
       "      <td>21048</td>\n",
       "    </tr>\n",
       "    <tr>\n",
       "      <th>15238</th>\n",
       "      <td>2020-05-28</td>\n",
       "      <td>BR</td>\n",
       "      <td>Brazil</td>\n",
       "      <td>AMRO</td>\n",
       "      <td>16324</td>\n",
       "      <td>391222</td>\n",
       "      <td>1039</td>\n",
       "      <td>24512</td>\n",
       "    </tr>\n",
       "    <tr>\n",
       "      <th>15239</th>\n",
       "      <td>2020-05-29</td>\n",
       "      <td>BR</td>\n",
       "      <td>Brazil</td>\n",
       "      <td>AMRO</td>\n",
       "      <td>20599</td>\n",
       "      <td>411821</td>\n",
       "      <td>1086</td>\n",
       "      <td>25598</td>\n",
       "    </tr>\n",
       "    <tr>\n",
       "      <th>...</th>\n",
       "      <td>...</td>\n",
       "      <td>...</td>\n",
       "      <td>...</td>\n",
       "      <td>...</td>\n",
       "      <td>...</td>\n",
       "      <td>...</td>\n",
       "      <td>...</td>\n",
       "      <td>...</td>\n",
       "    </tr>\n",
       "    <tr>\n",
       "      <th>15625</th>\n",
       "      <td>2021-06-19</td>\n",
       "      <td>BR</td>\n",
       "      <td>Brazil</td>\n",
       "      <td>AMRO</td>\n",
       "      <td>74042</td>\n",
       "      <td>17702630</td>\n",
       "      <td>2311</td>\n",
       "      <td>496004</td>\n",
       "    </tr>\n",
       "    <tr>\n",
       "      <th>15626</th>\n",
       "      <td>2021-06-20</td>\n",
       "      <td>BR</td>\n",
       "      <td>Brazil</td>\n",
       "      <td>AMRO</td>\n",
       "      <td>98832</td>\n",
       "      <td>17801462</td>\n",
       "      <td>2495</td>\n",
       "      <td>498499</td>\n",
       "    </tr>\n",
       "    <tr>\n",
       "      <th>15627</th>\n",
       "      <td>2021-06-21</td>\n",
       "      <td>BR</td>\n",
       "      <td>Brazil</td>\n",
       "      <td>AMRO</td>\n",
       "      <td>82288</td>\n",
       "      <td>17883750</td>\n",
       "      <td>2301</td>\n",
       "      <td>500800</td>\n",
       "    </tr>\n",
       "    <tr>\n",
       "      <th>15628</th>\n",
       "      <td>2021-06-22</td>\n",
       "      <td>BR</td>\n",
       "      <td>Brazil</td>\n",
       "      <td>AMRO</td>\n",
       "      <td>44178</td>\n",
       "      <td>17927928</td>\n",
       "      <td>1025</td>\n",
       "      <td>501825</td>\n",
       "    </tr>\n",
       "    <tr>\n",
       "      <th>15630</th>\n",
       "      <td>2021-06-24</td>\n",
       "      <td>BR</td>\n",
       "      <td>Brazil</td>\n",
       "      <td>AMRO</td>\n",
       "      <td>87822</td>\n",
       "      <td>18054653</td>\n",
       "      <td>2131</td>\n",
       "      <td>504717</td>\n",
       "    </tr>\n",
       "  </tbody>\n",
       "</table>\n",
       "<p>209 rows × 8 columns</p>\n",
       "</div>"
      ],
      "text/plain": [
       "      Date_reported Country_code Country WHO_region  New_cases  \\\n",
       "15231    2020-05-21           BR  Brazil       AMRO      17408   \n",
       "15233    2020-05-23           BR  Brazil       AMRO      18508   \n",
       "15234    2020-05-24           BR  Brazil       AMRO      20803   \n",
       "15238    2020-05-28           BR  Brazil       AMRO      16324   \n",
       "15239    2020-05-29           BR  Brazil       AMRO      20599   \n",
       "...             ...          ...     ...        ...        ...   \n",
       "15625    2021-06-19           BR  Brazil       AMRO      74042   \n",
       "15626    2021-06-20           BR  Brazil       AMRO      98832   \n",
       "15627    2021-06-21           BR  Brazil       AMRO      82288   \n",
       "15628    2021-06-22           BR  Brazil       AMRO      44178   \n",
       "15630    2021-06-24           BR  Brazil       AMRO      87822   \n",
       "\n",
       "       Cumulative_cases  New_deaths  Cumulative_deaths  \n",
       "15231            271628        1179              17971  \n",
       "15233            310087        1188              20047  \n",
       "15234            330890        1001              21048  \n",
       "15238            391222        1039              24512  \n",
       "15239            411821        1086              25598  \n",
       "...                 ...         ...                ...  \n",
       "15625          17702630        2311             496004  \n",
       "15626          17801462        2495             498499  \n",
       "15627          17883750        2301             500800  \n",
       "15628          17927928        1025             501825  \n",
       "15630          18054653        2131             504717  \n",
       "\n",
       "[209 rows x 8 columns]"
      ]
     },
     "execution_count": 40,
     "metadata": {},
     "output_type": "execute_result"
    }
   ],
   "source": [
    "file.loc[(file.New_deaths > 1000) & (file.Country == 'Brazil')]"
   ]
  },
  {
   "cell_type": "code",
   "execution_count": 44,
   "id": "5814c785",
   "metadata": {},
   "outputs": [],
   "source": [
    "maximum=file.loc[file.New_deaths > 1000 ,['New_cases']].max()\n",
    "minimum=file.loc[file.New_deaths > 1000 ,['New_cases']].min()\n",
    "summation=file.loc[file.New_deaths > 1000 ,['New_cases']].sum()"
   ]
  },
  {
   "cell_type": "code",
   "execution_count": 46,
   "id": "b14160cb",
   "metadata": {},
   "outputs": [
    {
     "data": {
      "text/plain": [
       "New_cases    414188\n",
       "dtype: int64"
      ]
     },
     "execution_count": 46,
     "metadata": {},
     "output_type": "execute_result"
    }
   ],
   "source": [
    "maximum\n"
   ]
  },
  {
   "cell_type": "code",
   "execution_count": 47,
   "id": "c7b0acac",
   "metadata": {},
   "outputs": [
    {
     "data": {
      "text/plain": [
       "New_cases    56553363\n",
       "dtype: int64"
      ]
     },
     "execution_count": 47,
     "metadata": {},
     "output_type": "execute_result"
    }
   ],
   "source": [
    "summation"
   ]
  },
  {
   "cell_type": "code",
   "execution_count": 48,
   "id": "e513d43c",
   "metadata": {},
   "outputs": [
    {
     "data": {
      "text/plain": [
       "New_cases   -8956\n",
       "dtype: int64"
      ]
     },
     "execution_count": 48,
     "metadata": {},
     "output_type": "execute_result"
    }
   ],
   "source": [
    "minimum"
   ]
  },
  {
   "cell_type": "code",
   "execution_count": null,
   "id": "014d29ee",
   "metadata": {},
   "outputs": [],
   "source": []
  },
  {
   "cell_type": "code",
   "execution_count": null,
   "id": "139c5553",
   "metadata": {},
   "outputs": [],
   "source": []
  }
 ],
 "metadata": {
  "kernelspec": {
   "display_name": "Python 3",
   "language": "python",
   "name": "python3"
  },
  "language_info": {
   "codemirror_mode": {
    "name": "ipython",
    "version": 3
   },
   "file_extension": ".py",
   "mimetype": "text/x-python",
   "name": "python",
   "nbconvert_exporter": "python",
   "pygments_lexer": "ipython3",
   "version": "3.8.8"
  }
 },
 "nbformat": 4,
 "nbformat_minor": 5
}
